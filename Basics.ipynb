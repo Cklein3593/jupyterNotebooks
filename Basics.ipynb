{
 "cells": [
  {
   "cell_type": "code",
   "execution_count": 1,
   "metadata": {
    "collapsed": true
   },
   "outputs": [],
   "source": [
    "import pandas as pd\n",
    "data = pd.read_csv('thanksgiving.csv', encoding=\"Latin-1\")"
   ]
  },
  {
   "cell_type": "code",
   "execution_count": 2,
   "metadata": {
    "collapsed": false
   },
   "outputs": [
    {
     "name": "stdout",
     "output_type": "stream",
     "text": [
      "   RespondentID Do you celebrate Thanksgiving?  \\\n",
      "0    4337954960                            Yes   \n",
      "1    4337951949                            Yes   \n",
      "2    4337935621                            Yes   \n",
      "3    4337933040                            Yes   \n",
      "4    4337931983                            Yes   \n",
      "\n",
      "  What is typically the main dish at your Thanksgiving dinner?  \\\n",
      "0                                             Turkey             \n",
      "1                                             Turkey             \n",
      "2                                             Turkey             \n",
      "3                                             Turkey             \n",
      "4                                           Tofurkey             \n",
      "\n",
      "  What is typically the main dish at your Thanksgiving dinner? - Other (please specify)  \\\n",
      "0                                                NaN                                      \n",
      "1                                                NaN                                      \n",
      "2                                                NaN                                      \n",
      "3                                                NaN                                      \n",
      "4                                                NaN                                      \n",
      "\n",
      "  How is the main dish typically cooked?  \\\n",
      "0                                  Baked   \n",
      "1                                  Baked   \n",
      "2                                Roasted   \n",
      "3                                  Baked   \n",
      "4                                  Baked   \n",
      "\n",
      "  How is the main dish typically cooked? - Other (please specify)  \\\n",
      "0                                                NaN                \n",
      "1                                                NaN                \n",
      "2                                                NaN                \n",
      "3                                                NaN                \n",
      "4                                                NaN                \n",
      "\n",
      "  What kind of stuffing/dressing do you typically have?  \\\n",
      "0                                        Bread-based      \n",
      "1                                        Bread-based      \n",
      "2                                         Rice-based      \n",
      "3                                        Bread-based      \n",
      "4                                        Bread-based      \n",
      "\n",
      "  What kind of stuffing/dressing do you typically have? - Other (please specify)  \\\n",
      "0                                                NaN                               \n",
      "1                                                NaN                               \n",
      "2                                                NaN                               \n",
      "3                                                NaN                               \n",
      "4                                                NaN                               \n",
      "\n",
      "  What type of cranberry saucedo you typically have?  \\\n",
      "0                                               None   \n",
      "1                             Other (please specify)   \n",
      "2                                           Homemade   \n",
      "3                                           Homemade   \n",
      "4                                             Canned   \n",
      "\n",
      "  What type of cranberry saucedo you typically have? - Other (please specify)  \\\n",
      "0                                                NaN                            \n",
      "1                    Homemade cranberry gelatin ring                            \n",
      "2                                                NaN                            \n",
      "3                                                NaN                            \n",
      "4                                                NaN                            \n",
      "\n",
      "          ...          \\\n",
      "0         ...           \n",
      "1         ...           \n",
      "2         ...           \n",
      "3         ...           \n",
      "4         ...           \n",
      "\n",
      "  Have you ever tried to meet up with hometown friends on Thanksgiving night?  \\\n",
      "0                                                Yes                            \n",
      "1                                                 No                            \n",
      "2                                                Yes                            \n",
      "3                                                Yes                            \n",
      "4                                                Yes                            \n",
      "\n",
      "  Have you ever attended a \"Friendsgiving?\"  \\\n",
      "0                                        No   \n",
      "1                                        No   \n",
      "2                                       Yes   \n",
      "3                                        No   \n",
      "4                                        No   \n",
      "\n",
      "  Will you shop any Black Friday sales on Thanksgiving Day?  \\\n",
      "0                                                 No          \n",
      "1                                                Yes          \n",
      "2                                                Yes          \n",
      "3                                                 No          \n",
      "4                                                 No          \n",
      "\n",
      "  Do you work in retail? Will you employer make you work on Black Friday?  \\\n",
      "0                     No                                              NaN   \n",
      "1                     No                                              NaN   \n",
      "2                     No                                              NaN   \n",
      "3                     No                                              NaN   \n",
      "4                     No                                              NaN   \n",
      "\n",
      "  How would you describe where you live?      Age What is your gender?  \\\n",
      "0                               Suburban  18 - 29                 Male   \n",
      "1                                  Rural  18 - 29               Female   \n",
      "2                               Suburban  18 - 29                 Male   \n",
      "3                                  Urban  30 - 44                 Male   \n",
      "4                                  Urban  30 - 44                 Male   \n",
      "\n",
      "  How much total combined money did all members of your HOUSEHOLD earn last year?  \\\n",
      "0                                 $75,000 to $99,999                                \n",
      "1                                 $50,000 to $74,999                                \n",
      "2                                       $0 to $9,999                                \n",
      "3                                    $200,000 and up                                \n",
      "4                               $100,000 to $124,999                                \n",
      "\n",
      "            US Region  \n",
      "0     Middle Atlantic  \n",
      "1  East South Central  \n",
      "2            Mountain  \n",
      "3             Pacific  \n",
      "4             Pacific  \n",
      "\n",
      "[5 rows x 65 columns]\n"
     ]
    }
   ],
   "source": [
    "print(data.head())"
   ]
  },
  {
   "cell_type": "code",
   "execution_count": 3,
   "metadata": {
    "collapsed": false
   },
   "outputs": [
    {
     "name": "stdout",
     "output_type": "stream",
     "text": [
      "Index(['RespondentID', 'Do you celebrate Thanksgiving?',\n",
      "       'What is typically the main dish at your Thanksgiving dinner?',\n",
      "       'What is typically the main dish at your Thanksgiving dinner? - Other (please specify)',\n",
      "       'How is the main dish typically cooked?',\n",
      "       'How is the main dish typically cooked? - Other (please specify)',\n",
      "       'What kind of stuffing/dressing do you typically have?',\n",
      "       'What kind of stuffing/dressing do you typically have? - Other (please specify)',\n",
      "       'What type of cranberry saucedo you typically have?',\n",
      "       'What type of cranberry saucedo you typically have? - Other (please specify)',\n",
      "       'Do you typically have gravy?',\n",
      "       'Which of these side dishes aretypically served at your Thanksgiving dinner? Please select all that apply. - Brussel sprouts',\n",
      "       'Which of these side dishes aretypically served at your Thanksgiving dinner? Please select all that apply. - Carrots',\n",
      "       'Which of these side dishes aretypically served at your Thanksgiving dinner? Please select all that apply. - Cauliflower',\n",
      "       'Which of these side dishes aretypically served at your Thanksgiving dinner? Please select all that apply. - Corn',\n",
      "       'Which of these side dishes aretypically served at your Thanksgiving dinner? Please select all that apply. - Cornbread',\n",
      "       'Which of these side dishes aretypically served at your Thanksgiving dinner? Please select all that apply. - Fruit salad',\n",
      "       'Which of these side dishes aretypically served at your Thanksgiving dinner? Please select all that apply. - Green beans/green bean casserole',\n",
      "       'Which of these side dishes aretypically served at your Thanksgiving dinner? Please select all that apply. - Macaroni and cheese',\n",
      "       'Which of these side dishes aretypically served at your Thanksgiving dinner? Please select all that apply. - Mashed potatoes',\n",
      "       'Which of these side dishes aretypically served at your Thanksgiving dinner? Please select all that apply. - Rolls/biscuits',\n",
      "       'Which of these side dishes aretypically served at your Thanksgiving dinner? Please select all that apply. - Squash',\n",
      "       'Which of these side dishes aretypically served at your Thanksgiving dinner? Please select all that apply. - Vegetable salad',\n",
      "       'Which of these side dishes aretypically served at your Thanksgiving dinner? Please select all that apply. - Yams/sweet potato casserole',\n",
      "       'Which of these side dishes aretypically served at your Thanksgiving dinner? Please select all that apply. - Other (please specify)',\n",
      "       'Which of these side dishes aretypically served at your Thanksgiving dinner? Please select all that apply. - Other (please specify).1',\n",
      "       'Which type of pie is typically served at your Thanksgiving dinner? Please select all that apply. - Apple',\n",
      "       'Which type of pie is typically served at your Thanksgiving dinner? Please select all that apply. - Buttermilk',\n",
      "       'Which type of pie is typically served at your Thanksgiving dinner? Please select all that apply. - Cherry',\n",
      "       'Which type of pie is typically served at your Thanksgiving dinner? Please select all that apply. - Chocolate',\n",
      "       'Which type of pie is typically served at your Thanksgiving dinner? Please select all that apply. - Coconut cream',\n",
      "       'Which type of pie is typically served at your Thanksgiving dinner? Please select all that apply. - Key lime',\n",
      "       'Which type of pie is typically served at your Thanksgiving dinner? Please select all that apply. - Peach',\n",
      "       'Which type of pie is typically served at your Thanksgiving dinner? Please select all that apply. - Pecan',\n",
      "       'Which type of pie is typically served at your Thanksgiving dinner? Please select all that apply. - Pumpkin',\n",
      "       'Which type of pie is typically served at your Thanksgiving dinner? Please select all that apply. - Sweet Potato',\n",
      "       'Which type of pie is typically served at your Thanksgiving dinner? Please select all that apply. - None',\n",
      "       'Which type of pie is typically served at your Thanksgiving dinner? Please select all that apply. - Other (please specify)',\n",
      "       'Which type of pie is typically served at your Thanksgiving dinner? Please select all that apply. - Other (please specify).1',\n",
      "       'Which of these desserts do you typically have at Thanksgiving dinner? Please select all that apply.   - Apple cobbler',\n",
      "       'Which of these desserts do you typically have at Thanksgiving dinner? Please select all that apply.   - Blondies',\n",
      "       'Which of these desserts do you typically have at Thanksgiving dinner? Please select all that apply.   - Brownies',\n",
      "       'Which of these desserts do you typically have at Thanksgiving dinner? Please select all that apply.   - Carrot cake',\n",
      "       'Which of these desserts do you typically have at Thanksgiving dinner? Please select all that apply.   - Cheesecake',\n",
      "       'Which of these desserts do you typically have at Thanksgiving dinner? Please select all that apply.   - Cookies',\n",
      "       'Which of these desserts do you typically have at Thanksgiving dinner? Please select all that apply.   - Fudge',\n",
      "       'Which of these desserts do you typically have at Thanksgiving dinner? Please select all that apply.   - Ice cream',\n",
      "       'Which of these desserts do you typically have at Thanksgiving dinner? Please select all that apply.   - Peach cobbler',\n",
      "       'Which of these desserts do you typically have at Thanksgiving dinner? Please select all that apply.   - None',\n",
      "       'Which of these desserts do you typically have at Thanksgiving dinner? Please select all that apply.   - Other (please specify)',\n",
      "       'Which of these desserts do you typically have at Thanksgiving dinner? Please select all that apply.   - Other (please specify).1',\n",
      "       'Do you typically pray before or after the Thanksgiving meal?',\n",
      "       'How far will you travel for Thanksgiving?',\n",
      "       'Will you watch any of the following programs on Thanksgiving? Please select all that apply. - Macy's Parade',\n",
      "       'What's the age cutoff at your \"kids' table\" at Thanksgiving?',\n",
      "       'Have you ever tried to meet up with hometown friends on Thanksgiving night?',\n",
      "       'Have you ever attended a \"Friendsgiving?\"',\n",
      "       'Will you shop any Black Friday sales on Thanksgiving Day?',\n",
      "       'Do you work in retail?',\n",
      "       'Will you employer make you work on Black Friday?',\n",
      "       'How would you describe where you live?', 'Age', 'What is your gender?',\n",
      "       'How much total combined money did all members of your HOUSEHOLD earn last year?',\n",
      "       'US Region'],\n",
      "      dtype='object')\n"
     ]
    }
   ],
   "source": [
    "print(data.columns)"
   ]
  },
  {
   "cell_type": "code",
   "execution_count": 4,
   "metadata": {
    "collapsed": false
   },
   "outputs": [
    {
     "name": "stdout",
     "output_type": "stream",
     "text": [
      "Yes    980\n",
      "No      78\n",
      "Name: Do you celebrate Thanksgiving?, dtype: int64\n",
      "(980, 65)\n"
     ]
    }
   ],
   "source": [
    "# Count how many times each category occurs in the column\n",
    "print(data['Do you celebrate Thanksgiving?'].value_counts())\n",
    "\n",
    "# Filter DataFrame to include only Yes responses to Do you celebrate Thanksgiving?\n",
    "data = data.loc[data['Do you celebrate Thanksgiving?'] == 'Yes']\n",
    "\n",
    "# Confirm that number of rows matches number of Yeses from earlier count\n",
    "print(data.shape)"
   ]
  },
  {
   "cell_type": "code",
   "execution_count": 5,
   "metadata": {
    "collapsed": false
   },
   "outputs": [
    {
     "name": "stdout",
     "output_type": "stream",
     "text": [
      "Turkey                    859\n",
      "Other (please specify)     35\n",
      "Ham/Pork                   29\n",
      "Tofurkey                   20\n",
      "Chicken                    12\n",
      "Roast beef                 11\n",
      "I don't know                5\n",
      "Turducken                   3\n",
      "Name: What is typically the main dish at your Thanksgiving dinner?, dtype: int64\n",
      "4      Yes\n",
      "33     Yes\n",
      "69      No\n",
      "72      No\n",
      "77     Yes\n",
      "145    Yes\n",
      "175    Yes\n",
      "218     No\n",
      "243    Yes\n",
      "275     No\n",
      "393    Yes\n",
      "399    Yes\n",
      "571    Yes\n",
      "594    Yes\n",
      "628     No\n",
      "774     No\n",
      "820     No\n",
      "837    Yes\n",
      "860     No\n",
      "953    Yes\n",
      "Name: Do you typically have gravy?, dtype: object\n"
     ]
    }
   ],
   "source": [
    "# Counts of responses to what main dish is\n",
    "print(data['What is typically the main dish at your Thanksgiving dinner?'].value_counts())\n",
    "\n",
    "# Display do you have gravy column for any data where Tofurkey was the main dish\n",
    "Tofurkeyrows = data.loc[data['What is typically the main dish at your Thanksgiving dinner?'] == 'Tofurkey']\n",
    "print(Tofurkeyrows['Do you typically have gravy?'])\n"
   ]
  },
  {
   "cell_type": "code",
   "execution_count": 6,
   "metadata": {
    "collapsed": false
   },
   "outputs": [],
   "source": [
    "# Create Boolean Series for apple, pumpkin, and pecan pie with true false values expressing null and non-null values\n",
    "apple_isnull = pd.isnull(data['Which type of pie is typically served at your Thanksgiving dinner? Please select all that apply. - Apple'])\n",
    "pumpkin_isnull = pd.isnull(data['Which type of pie is typically served at your Thanksgiving dinner? Please select all that apply. - Pumpkin'])\n",
    "pecan_isnull = pd.isnull(data['Which type of pie is typically served at your Thanksgiving dinner? Please select all that apply. - Pecan'])"
   ]
  },
  {
   "cell_type": "code",
   "execution_count": 7,
   "metadata": {
    "collapsed": false
   },
   "outputs": [],
   "source": [
    "# Combine all three series using the boolean operator &\n",
    "ate_pies = apple_isnull & pumpkin_isnull & pecan_isnull"
   ]
  },
  {
   "cell_type": "code",
   "execution_count": 8,
   "metadata": {
    "collapsed": false
   },
   "outputs": [
    {
     "name": "stdout",
     "output_type": "stream",
     "text": [
      "False    876\n",
      "True     104\n",
      "dtype: int64\n"
     ]
    }
   ],
   "source": [
    "# Print the value counts of final boolean series\n",
    "print(ate_pies.value_counts())"
   ]
  },
  {
   "cell_type": "code",
   "execution_count": 9,
   "metadata": {
    "collapsed": false
   },
   "outputs": [
    {
     "name": "stdout",
     "output_type": "stream",
     "text": [
      "count    947.000000\n",
      "mean      40.089757\n",
      "std       15.352014\n",
      "min       18.000000\n",
      "25%       30.000000\n",
      "50%       45.000000\n",
      "75%       60.000000\n",
      "max       60.000000\n",
      "Name: int_age, dtype: float64\n"
     ]
    }
   ],
   "source": [
    "# Function to convert parse a single string from age column into int\n",
    "def age_to_int(string):\n",
    "    if pd.isnull(string) == True:\n",
    "        return None\n",
    "    new = string.split()\n",
    "    new1 = new[0]\n",
    "    new2 = new1.replace('+', '')\n",
    "    age = int(new2)\n",
    "    return age\n",
    "# Apply function to series of age values\n",
    "data['int_age'] = data['Age'].apply(lambda x: age_to_int(x))\n",
    "\n",
    "print(data['int_age'].describe())"
   ]
  },
  {
   "cell_type": "markdown",
   "metadata": {
    "collapsed": true
   },
   "source": [
    "# Notes on Findings\n",
    "### Changing age to int value\n",
    "\n",
    "1. The new int_age column only represents a rough approximation of respondents' ages, it will be lower than their true age as we're using the low end of each age range that was provided in the survey. (You can see this clearly in the fact that the 3rd quartile and the maximum are both 60\n",
    "\n",
    "\n",
    "2. A better depiction of age, still not true, but closer, would be to use the midpoint as each range as the integer value for age. The best solution would simply be to do a better survey next time and ask them to fill in their exact age. "
   ]
  },
  {
   "cell_type": "code",
   "execution_count": 12,
   "metadata": {
    "collapsed": false
   },
   "outputs": [
    {
     "name": "stdout",
     "output_type": "stream",
     "text": [
      "count       829.000000\n",
      "mean      75965.018094\n",
      "std       59068.636748\n",
      "min           0.000000\n",
      "25%       25000.000000\n",
      "50%       75000.000000\n",
      "75%      100000.000000\n",
      "max      200000.000000\n",
      "Name: int_income, dtype: float64\n"
     ]
    }
   ],
   "source": [
    "def income_to_int(string):\n",
    "    if pd.isnull(string) == True:\n",
    "        return None\n",
    "    i = string.split()\n",
    "    i2 = i[0]\n",
    "    if i2 == 'Prefer':\n",
    "        return None\n",
    "    i2 = i2.replace('$', '')\n",
    "    i2 = i2.replace(',', '')\n",
    "    income = int(i2)\n",
    "    return income\n",
    "data['int_income'] = data['How much total combined money did all members of your HOUSEHOLD earn last year?'].apply(lambda x: income_to_int(x))\n",
    "\n",
    "print(data['int_income'].describe())\n",
    "    "
   ]
  },
  {
   "cell_type": "markdown",
   "metadata": {},
   "source": [
    "# Notes on findings\n",
    "### Changing income to int\n",
    "\n",
    "Once again this only represents a rough approximation of the true income of respondents, because of the size of the categories and the fact we are using an endpoint as a default value means that the level of possible variance between the assigned income and a respondents true income is high."
   ]
  },
  {
   "cell_type": "code",
   "execution_count": 13,
   "metadata": {
    "collapsed": false
   },
   "outputs": [
    {
     "name": "stdout",
     "output_type": "stream",
     "text": [
      "Thanksgiving is happening at my home--I won't travel at all                         281\n",
      "Thanksgiving is local--it will take place in the town I live in                     203\n",
      "Thanksgiving is out of town but not too far--it's a drive of a few hours or less    150\n",
      "Thanksgiving is out of town and far away--I have to drive several hours or fly       55\n",
      "Name: How far will you travel for Thanksgiving?, dtype: int64\n",
      "Thanksgiving is happening at my home--I won't travel at all                         49\n",
      "Thanksgiving is local--it will take place in the town I live in                     25\n",
      "Thanksgiving is out of town but not too far--it's a drive of a few hours or less    16\n",
      "Thanksgiving is out of town and far away--I have to drive several hours or fly      12\n",
      "Name: How far will you travel for Thanksgiving?, dtype: int64\n"
     ]
    }
   ],
   "source": [
    "# Select rows where int_income is less than 150000\n",
    "income_filtering1 = data[data['int_income'] < 150000]\n",
    "print(income_filtering1['How far will you travel for Thanksgiving?'].value_counts())\n",
    "\n",
    "# Select rows where int_income is greater than 150000\n",
    "income_filtering2 = data[data['int_income'] > 150000]\n",
    "print(income_filtering2['How far will you travel for Thanksgiving?'].value_counts())"
   ]
  },
  {
   "cell_type": "markdown",
   "metadata": {},
   "source": [
    "# Notes on findings\n",
    "### Distance travelled filtered by income\n",
    "\n",
    "1. People making greater than 150k are about 8% more likely to remain at home for Thanksgiving, about 5% less likely to attend a local Thanksgiving not hosted by them, about 5% less likely to go to one that is not far away, but roughly 4% MORE likely to travel far away for Thanksgiving. \n",
    "\n",
    "2. Above and below 150k is probably not the best dividing line as the sample on the low end of that filtering is significantly larger than the sample on the high end. This is not necessarily beneficial when comparing two distributions. Also, I think as far as behavior is concerned someone who makes about 100k a year is significantly more like someone who makes 150k than they are someone who makes 50K so it makes little sense to group those people together. "
   ]
  },
  {
   "cell_type": "code",
   "execution_count": 15,
   "metadata": {
    "collapsed": false
   },
   "outputs": [
    {
     "data": {
      "text/html": [
       "<div>\n",
       "<table border=\"1\" class=\"dataframe\">\n",
       "  <thead>\n",
       "    <tr style=\"text-align: right;\">\n",
       "      <th>Have you ever attended a \"Friendsgiving?\"</th>\n",
       "      <th>No</th>\n",
       "      <th>Yes</th>\n",
       "    </tr>\n",
       "    <tr>\n",
       "      <th>Have you ever tried to meet up with hometown friends on Thanksgiving night?</th>\n",
       "      <th></th>\n",
       "      <th></th>\n",
       "    </tr>\n",
       "  </thead>\n",
       "  <tbody>\n",
       "    <tr>\n",
       "      <th>No</th>\n",
       "      <td>42.283702</td>\n",
       "      <td>37.010526</td>\n",
       "    </tr>\n",
       "    <tr>\n",
       "      <th>Yes</th>\n",
       "      <td>41.475410</td>\n",
       "      <td>33.976744</td>\n",
       "    </tr>\n",
       "  </tbody>\n",
       "</table>\n",
       "</div>"
      ],
      "text/plain": [
       "Have you ever attended a \"Friendsgiving?\"                  No        Yes\n",
       "Have you ever tried to meet up with hometown fr...                      \n",
       "No                                                  42.283702  37.010526\n",
       "Yes                                                 41.475410  33.976744"
      ]
     },
     "execution_count": 15,
     "metadata": {},
     "output_type": "execute_result"
    }
   ],
   "source": [
    "# Create a pivot table showing the average age of respondents for categories related to meeting with \n",
    "# friends on Thanksgiving\n",
    "data.pivot_table(index = 'Have you ever tried to meet up with hometown friends on Thanksgiving night?', columns = 'Have you ever attended a \"Friendsgiving?\"', values = 'int_age')"
   ]
  },
  {
   "cell_type": "markdown",
   "metadata": {},
   "source": [
    "# Notes on findings\n",
    "### Age distribution for people who've met up with friends and/or attended a friendsgiving\n",
    "\n",
    "It appears that there is a significant age difference between people who've attended a friendsgiving, but not so large a difference between people who've met up with hometown friends on Thanksgiving night and people who haven't. Most of the age variation seems driven by the friendsgiving category"
   ]
  },
  {
   "cell_type": "code",
   "execution_count": null,
   "metadata": {
    "collapsed": true
   },
   "outputs": [],
   "source": []
  },
  {
   "cell_type": "code",
   "execution_count": null,
   "metadata": {
    "collapsed": true
   },
   "outputs": [],
   "source": []
  }
 ],
 "metadata": {
  "kernelspec": {
   "display_name": "Python 3",
   "language": "python",
   "name": "python3"
  },
  "language_info": {
   "codemirror_mode": {
    "name": "ipython",
    "version": 3
   },
   "file_extension": ".py",
   "mimetype": "text/x-python",
   "name": "python",
   "nbconvert_exporter": "python",
   "pygments_lexer": "ipython3",
   "version": "3.4.3"
  }
 },
 "nbformat": 4,
 "nbformat_minor": 0
}
